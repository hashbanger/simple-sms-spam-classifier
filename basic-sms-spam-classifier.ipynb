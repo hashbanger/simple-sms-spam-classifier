{
 "cells": [
  {
   "cell_type": "markdown",
   "source": "# SMS Spam Classifier",
   "metadata": {
    "cell_id": "00000-cf5522cb-34cf-4b54-8040-4e166f6f3d98",
    "deepnote_cell_type": "markdown"
   }
  },
  {
   "cell_type": "markdown",
   "source": "[Prashant Brahmbhatt](prashantbrahmbhatt.bio.link)",
   "metadata": {
    "tags": [],
    "cell_id": "00001-0613b39a-545f-46f0-a9fe-4c948b4d019e",
    "deepnote_cell_type": "markdown"
   },
   "outputs": [],
   "execution_count": null
  },
  {
   "cell_type": "markdown",
   "source": "#### Let's import some libraries",
   "metadata": {
    "cell_id": "00001-06c9d2d3-2b6a-4261-8a39-eab355241be0",
    "deepnote_cell_type": "markdown"
   }
  },
  {
   "cell_type": "code",
   "metadata": {
    "cell_id": "00002-a55d3564-0ce5-47ca-9b0f-8f1fea310c95",
    "deepnote_cell_type": "code"
   },
   "source": "import nltk\nimport string\nimport numpy as np\nimport pandas as pd\nimport seaborn as sns\nimport matplotlib.pyplot as plt",
   "execution_count": 287,
   "outputs": []
  },
  {
   "cell_type": "markdown",
   "source": "#### Loading the data",
   "metadata": {
    "cell_id": "00003-b08b863f-dfa3-47ce-a61c-2416b208b261",
    "deepnote_cell_type": "markdown"
   }
  },
  {
   "cell_type": "code",
   "metadata": {
    "cell_id": "00004-388eb82d-f740-4d36-83c3-2b6f39da7669",
    "deepnote_cell_type": "code"
   },
   "source": "messages = pd.read_csv('smsspamcollection/SMSSpamCollection', sep='\\t',names = ['Label','Message'])",
   "execution_count": 288,
   "outputs": []
  },
  {
   "cell_type": "markdown",
   "source": "#### Let's take a look at the sample examples in the data",
   "metadata": {
    "cell_id": "00005-6ed75da9-459b-4198-9345-3a3f1cb252c4",
    "deepnote_cell_type": "markdown"
   }
  },
  {
   "cell_type": "code",
   "metadata": {
    "cell_id": "00006-b0b3c902-7fb8-449c-b96c-238f9ad4e141",
    "deepnote_cell_type": "code"
   },
   "source": "sample_data = messages.sample(5) \n[print(label, message, '\\n') for label, message in zip(sample_data['Label'],sample_data['Message'])]",
   "execution_count": 439,
   "outputs": [
    {
     "name": "stdout",
     "output_type": "stream",
     "text": "ham K...k:)why cant you come here and search job:) \n\nham Get the door, I'm here \n\nspam +449071512431 URGENT! This is the 2nd attempt to contact U!U have WON £1250 CALL 09071512433 b4 050703 T&CsBCM4235WC1N3XX. callcost 150ppm mobilesvary. max£7. 50 \n\nspam I want some cock! My hubby's away, I need a real man 2 satisfy me. Txt WIFE to 89938 for no strings action. (Txt STOP 2 end, txt rec £1.50ea. OTBox 731 LA1 7WS. ) \n\nham Not directly behind... Abt 4 rows behind ü... \n\n"
    },
    {
     "data": {
      "text/plain": "[None, None, None, None, None]"
     },
     "execution_count": 439,
     "metadata": {},
     "output_type": "execute_result"
    }
   ]
  },
  {
   "cell_type": "markdown",
   "source": "As we can see the data looks so messy. We're going to need some cleaning.",
   "metadata": {
    "cell_id": "00007-b10e35ff-2bf7-4c20-a1b9-35ab4563b124",
    "deepnote_cell_type": "markdown"
   }
  },
  {
   "cell_type": "code",
   "metadata": {
    "cell_id": "00008-02a29225-3fa4-4a91-9ab4-c674373151b3",
    "deepnote_cell_type": "code"
   },
   "source": "messages.sample(5)",
   "execution_count": 290,
   "outputs": [
    {
     "data": {
      "text/html": "<div>\n<style scoped>\n    .dataframe tbody tr th:only-of-type {\n        vertical-align: middle;\n    }\n\n    .dataframe tbody tr th {\n        vertical-align: top;\n    }\n\n    .dataframe thead th {\n        text-align: right;\n    }\n</style>\n<table border=\"1\" class=\"dataframe\">\n  <thead>\n    <tr style=\"text-align: right;\">\n      <th></th>\n      <th>Label</th>\n      <th>Message</th>\n    </tr>\n  </thead>\n  <tbody>\n    <tr>\n      <th>2409</th>\n      <td>ham</td>\n      <td>Dear where you will be when i reach there</td>\n    </tr>\n    <tr>\n      <th>2569</th>\n      <td>ham</td>\n      <td>Hey. For me there is no leave on friday. Wait ...</td>\n    </tr>\n    <tr>\n      <th>3436</th>\n      <td>ham</td>\n      <td>Hi darlin i cantdo anythingtomorrow as myparen...</td>\n    </tr>\n    <tr>\n      <th>57</th>\n      <td>ham</td>\n      <td>Sorry, I'll call later in meeting.</td>\n    </tr>\n    <tr>\n      <th>3696</th>\n      <td>ham</td>\n      <td>Hello, As per request from  &amp;lt;#&amp;gt;  Rs.5 ha...</td>\n    </tr>\n  </tbody>\n</table>\n</div>",
      "text/plain": "     Label                                            Message\n2409   ham          Dear where you will be when i reach there\n2569   ham  Hey. For me there is no leave on friday. Wait ...\n3436   ham  Hi darlin i cantdo anythingtomorrow as myparen...\n57     ham                 Sorry, I'll call later in meeting.\n3696   ham  Hello, As per request from  &lt;#&gt;  Rs.5 ha..."
     },
     "execution_count": 290,
     "metadata": {},
     "output_type": "execute_result"
    }
   ]
  },
  {
   "cell_type": "code",
   "metadata": {
    "cell_id": "00009-e454f5de-755d-45f8-94b2-e64837edd505",
    "deepnote_cell_type": "code"
   },
   "source": "n = 211 #np.random.randint(len(messages))\nsample_message = messages['Message'][n]\nsample_message",
   "execution_count": 291,
   "outputs": [
    {
     "data": {
      "text/plain": "\"What's up bruv, hope you had a great break. Do have a rewarding semester.\""
     },
     "execution_count": 291,
     "metadata": {},
     "output_type": "execute_result"
    }
   ]
  },
  {
   "cell_type": "markdown",
   "source": "#### We should convert our text to lower case. So words like `\"And\"` and `\"aNd\"` are not different",
   "metadata": {
    "cell_id": "00010-aa9b888f-3666-4979-87a8-19d9c58fe624",
    "deepnote_cell_type": "markdown"
   }
  },
  {
   "cell_type": "code",
   "metadata": {
    "cell_id": "00011-c23be447-1c67-4b6e-8468-18c8214ec4f1",
    "deepnote_cell_type": "code"
   },
   "source": "sample_message = sample_message.lower()\nsample_message",
   "execution_count": 292,
   "outputs": [
    {
     "data": {
      "text/plain": "\"what's up bruv, hope you had a great break. do have a rewarding semester.\""
     },
     "execution_count": 292,
     "metadata": {},
     "output_type": "execute_result"
    }
   ]
  },
  {
   "cell_type": "markdown",
   "source": "#### Removing Punctuations",
   "metadata": {
    "cell_id": "00012-6b6c4ecd-604b-4e2b-9ffa-5dd4d424ced0",
    "deepnote_cell_type": "markdown"
   }
  },
  {
   "cell_type": "code",
   "metadata": {
    "cell_id": "00013-b4aec49c-1f0b-4a4e-9e3f-785f87de1e22",
    "deepnote_cell_type": "code"
   },
   "source": "sample_message = \"\".join([char for char in sample_message if char not in string.punctuation])\nsample_message",
   "execution_count": 293,
   "outputs": [
    {
     "data": {
      "text/plain": "'whats up bruv hope you had a great break do have a rewarding semester'"
     },
     "execution_count": 293,
     "metadata": {},
     "output_type": "execute_result"
    }
   ]
  },
  {
   "cell_type": "markdown",
   "source": "#### Removing the Stopwords",
   "metadata": {
    "cell_id": "00014-e36c16d9-400f-43c5-9895-4949dff31b15",
    "deepnote_cell_type": "markdown"
   }
  },
  {
   "cell_type": "code",
   "metadata": {
    "cell_id": "00015-d4c7b759-251b-4fb5-bead-6f1a8a91f961",
    "deepnote_cell_type": "code"
   },
   "source": "stopwords.words('english')[:20]",
   "execution_count": 442,
   "outputs": [
    {
     "data": {
      "text/plain": "['i',\n 'me',\n 'my',\n 'myself',\n 'we',\n 'our',\n 'ours',\n 'ourselves',\n 'you',\n \"you're\",\n \"you've\",\n \"you'll\",\n \"you'd\",\n 'your',\n 'yours',\n 'yourself',\n 'yourselves',\n 'he',\n 'him',\n 'his']"
     },
     "execution_count": 442,
     "metadata": {},
     "output_type": "execute_result"
    }
   ]
  },
  {
   "cell_type": "code",
   "metadata": {
    "cell_id": "00016-0743ec8e-caef-4cbe-9ee1-7139ba8dbc61",
    "deepnote_cell_type": "code"
   },
   "source": "sample_message = \" \".join([word for word in sample_message.split(' ') if word not in stopwords.words('english')])\nsample_message",
   "execution_count": 294,
   "outputs": [
    {
     "data": {
      "text/plain": "'whats bruv hope great break rewarding semester'"
     },
     "execution_count": 294,
     "metadata": {},
     "output_type": "execute_result"
    }
   ]
  },
  {
   "cell_type": "code",
   "metadata": {
    "cell_id": "00017-e531931d-4086-42fd-99be-6931653a225d",
    "deepnote_cell_type": "code"
   },
   "source": "from nltk.corpus import stopwords",
   "execution_count": 295,
   "outputs": []
  },
  {
   "cell_type": "code",
   "metadata": {
    "cell_id": "00018-8a57d0b7-4532-45b9-ba25-0bc11c8023e7",
    "deepnote_cell_type": "code"
   },
   "source": "def text_process(mess):\n    '''\n    Converting to lowercase\n    Removing the punctuations\n    Removing the common words \n    Returning the cleaned words\n    '''\n    mess = mess.lower()\n    nopunc = [char for char in mess if char not in string.punctuation]\n    nopunc = ''.join(nopunc)\n    \n    nostop = [word for word in nopunc.split() if word not in stopwords.words('english')]\n    nostop = ' '.join(nostop)\n    return nostop",
   "execution_count": 364,
   "outputs": []
  },
  {
   "cell_type": "markdown",
   "source": "Let's apply the entire process function of the data",
   "metadata": {
    "cell_id": "00019-562425fa-b4ec-4538-a943-5f1c07f24965",
    "deepnote_cell_type": "markdown"
   }
  },
  {
   "cell_type": "code",
   "metadata": {
    "cell_id": "00020-83109726-be41-41d2-8e53-9a5bf7fea4e2",
    "deepnote_cell_type": "code"
   },
   "source": "cleaned_messages = messages['Message'].apply(text_process)",
   "execution_count": 365,
   "outputs": []
  },
  {
   "cell_type": "code",
   "metadata": {
    "cell_id": "00021-434d48c1-4818-45d7-a268-458c7ec3b50d",
    "deepnote_cell_type": "code"
   },
   "source": "cleaned_messages[:5]",
   "execution_count": 366,
   "outputs": [
    {
     "data": {
      "text/plain": "0    go jurong point crazy available bugis n great ...\n1                              ok lar joking wif u oni\n2    free entry 2 wkly comp win fa cup final tkts 2...\n3                  u dun say early hor u c already say\n4          nah dont think goes usf lives around though\nName: Message, dtype: object"
     },
     "execution_count": 366,
     "metadata": {},
     "output_type": "execute_result"
    }
   ]
  },
  {
   "cell_type": "markdown",
   "source": "#### Count Vectorization",
   "metadata": {
    "cell_id": "00022-f065ce17-e8a2-4b5c-aa66-f06c9527d738",
    "deepnote_cell_type": "markdown"
   }
  },
  {
   "cell_type": "code",
   "metadata": {
    "cell_id": "00023-fa9e5fda-56f1-4703-8f1c-5e3a6e7f648d",
    "deepnote_cell_type": "code"
   },
   "source": "from sklearn.feature_extraction.text import CountVectorizer\nbow_transformer = CountVectorizer()\n# bow_transformer.fit(messages['Message'])\nbow_transformer.fit(cleaned_messages)",
   "execution_count": 369,
   "outputs": [
    {
     "data": {
      "text/plain": "CountVectorizer(analyzer='word', binary=False, decode_error='strict',\n                dtype=<class 'numpy.int64'>, encoding='utf-8', input='content',\n                lowercase=True, max_df=1.0, max_features=None, min_df=1,\n                ngram_range=(1, 1), preprocessor=None, stop_words=None,\n                strip_accents=None, token_pattern='(?u)\\\\b\\\\w\\\\w+\\\\b',\n                tokenizer=None, vocabulary=None)"
     },
     "execution_count": 369,
     "metadata": {},
     "output_type": "execute_result"
    }
   ]
  },
  {
   "cell_type": "markdown",
   "source": "We can see the entire vocabulary. Let's just see 10 words for now.",
   "metadata": {
    "cell_id": "00024-3009d81d-8f83-4cd0-b277-d203794978dc",
    "deepnote_cell_type": "markdown"
   }
  },
  {
   "cell_type": "code",
   "metadata": {
    "cell_id": "00025-0520e760-f3c3-4645-8d0b-18f51b7b8e30",
    "deepnote_cell_type": "code"
   },
   "source": "vocabulary = bow_transformer.get_feature_names()\nprint('Length of Vocabulary:', len(vocabulary))",
   "execution_count": 370,
   "outputs": [
    {
     "name": "stdout",
     "output_type": "stream",
     "text": "Length of Vocabulary: 9437\n"
    }
   ]
  },
  {
   "cell_type": "code",
   "metadata": {
    "cell_id": "00026-073d007c-e182-4d48-84c0-330a767e71a5",
    "deepnote_cell_type": "code"
   },
   "source": "vocabulary[1800:1810]",
   "execution_count": 381,
   "outputs": [
    {
     "data": {
      "text/plain": "['bras',\n 'brats',\n 'braved',\n 'bray',\n 'brb',\n 'brdget',\n 'bread',\n 'breadstick',\n 'break',\n 'breaker']"
     },
     "execution_count": 381,
     "metadata": {},
     "output_type": "execute_result"
    }
   ]
  },
  {
   "cell_type": "code",
   "metadata": {
    "cell_id": "00027-193506e8-605e-481d-98c9-8ec290aa80f1",
    "deepnote_cell_type": "code"
   },
   "source": "sample_message_bow = bow_transformer.transform([sample_message]).toarray()",
   "execution_count": 372,
   "outputs": []
  },
  {
   "cell_type": "markdown",
   "source": "We know in our sentence there should be 1s at 7 places for 7 words and we can confirm that",
   "metadata": {
    "cell_id": "00028-f4a084d1-1ef9-41ad-bd14-a48abefa4d8c",
    "deepnote_cell_type": "markdown"
   }
  },
  {
   "cell_type": "code",
   "metadata": {
    "cell_id": "00029-56620ba8-1e8f-4444-8041-863cb3a45ebd",
    "deepnote_cell_type": "code"
   },
   "source": "print('Cleaned Message: ',sample_message)\nprint('Count Vectorized Message: ',sample_message_bow)\nprint('Length of Vectorized Message: ',len(sample_message_bow[0]))\nprint('Total words in Vectorized Message', sample_message_bow.sum())",
   "execution_count": 373,
   "outputs": [
    {
     "name": "stdout",
     "output_type": "stream",
     "text": "Cleaned Message:  whats bruv hope great break rewarding semester\nCount Vectorized Message:  [[0 0 0 ... 0 0 0]]\nLength of Vectorized Message:  9437\nTotal words in Vectorized Message 7\n"
    }
   ]
  },
  {
   "cell_type": "markdown",
   "source": "As we can see in the above vocabulary 'break' is at 1808 index, at the same position there should be 1 in the vectorized message.",
   "metadata": {
    "cell_id": "00030-a99b8529-6cb3-4c12-b949-7a319f3404b8",
    "deepnote_cell_type": "markdown"
   }
  },
  {
   "cell_type": "code",
   "metadata": {
    "cell_id": "00031-7988af6a-c235-43d3-a159-26baada4a279",
    "deepnote_cell_type": "code"
   },
   "source": "sample_message_bow[0][1800:1810]",
   "execution_count": 378,
   "outputs": [
    {
     "data": {
      "text/plain": "array([0, 0, 0, 0, 0, 0, 0, 0, 1, 0])"
     },
     "execution_count": 378,
     "metadata": {},
     "output_type": "execute_result"
    }
   ]
  },
  {
   "cell_type": "markdown",
   "source": "As expected! \nNow let's transform the whole corpus",
   "metadata": {
    "cell_id": "00032-b9f06a57-8e83-4736-a396-f2fe531900eb",
    "deepnote_cell_type": "markdown"
   }
  },
  {
   "cell_type": "code",
   "metadata": {
    "cell_id": "00033-083784f9-dc03-4db8-94ff-35de22d408d9",
    "deepnote_cell_type": "code"
   },
   "source": "bow_messages = bow_transformer.transform(cleaned_messages)",
   "execution_count": 382,
   "outputs": []
  },
  {
   "cell_type": "code",
   "metadata": {
    "cell_id": "00034-b234a947-c410-4c1f-9ca6-9814d1a62030",
    "deepnote_cell_type": "code"
   },
   "source": "print('Shape of Sparse Matrix: ',bow_messages.shape)\nprint('Number of Non-Zeros: ',bow_messages.nnz)",
   "execution_count": 383,
   "outputs": [
    {
     "name": "stdout",
     "output_type": "stream",
     "text": "Shape of Sparse Matrix:  (5572, 9437)\nNumber of Non-Zeros:  47493\n"
    }
   ]
  },
  {
   "cell_type": "code",
   "metadata": {
    "cell_id": "00035-714d870d-ca09-476d-8d60-2d9992291ebe",
    "deepnote_cell_type": "code"
   },
   "source": "sparsity = (100 * bow_messages.nnz)/(bow_messages.shape[0] * bow_messages.shape[1])\nprint('Sparsity: ',sparsity)",
   "execution_count": 384,
   "outputs": [
    {
     "name": "stdout",
     "output_type": "stream",
     "text": "Sparsity:  0.09032012725642473\n"
    }
   ]
  },
  {
   "cell_type": "markdown",
   "source": "#### Splitting the Data",
   "metadata": {
    "cell_id": "00036-fafe3b72-2b23-42a1-b5ee-9f4330529ebc",
    "deepnote_cell_type": "markdown"
   }
  },
  {
   "cell_type": "markdown",
   "source": "We will split the data into Training set and testing set.  \nThe testing set will not be seen by the model and we will get an accurate measure of how good it is performing.",
   "metadata": {
    "cell_id": "00037-04b447aa-a43e-4dd9-8d40-42cc21eea9a5",
    "deepnote_cell_type": "markdown"
   }
  },
  {
   "cell_type": "code",
   "metadata": {
    "cell_id": "00038-11667747-b23b-423f-a0c2-a61f96b34ef6",
    "deepnote_cell_type": "code"
   },
   "source": "from sklearn.model_selection import train_test_split\nx_train, x_test, y_train, y_test = train_test_split(bow_messages, messages['Label'], test_size = 0.25, random_state = 101)",
   "execution_count": 385,
   "outputs": []
  },
  {
   "cell_type": "markdown",
   "source": "#### Training the Model",
   "metadata": {
    "cell_id": "00039-3c9b207d-64f6-484b-b529-c026996d1c68",
    "deepnote_cell_type": "markdown"
   }
  },
  {
   "cell_type": "markdown",
   "source": "We will use a Multinomial Naive Bayes as our classification model.  \nYou can experiment with more of them.",
   "metadata": {
    "cell_id": "00040-727590ec-ebe4-4142-961b-f8be3da32735",
    "deepnote_cell_type": "markdown"
   }
  },
  {
   "cell_type": "code",
   "metadata": {
    "cell_id": "00041-65c56377-8f0b-4a0a-bd70-580236a98bdf",
    "deepnote_cell_type": "code"
   },
   "source": "from sklearn.naive_bayes import MultinomialNB\nspam_detect_model = MultinomialNB()\nspam_detect_model = spam_detect_model.fit(x_train, y_train)",
   "execution_count": 386,
   "outputs": []
  },
  {
   "cell_type": "markdown",
   "source": "Let's make predictions on the unseen test set",
   "metadata": {
    "cell_id": "00042-61e52085-17a6-43fd-bb02-72d93aac3f1d",
    "deepnote_cell_type": "markdown"
   }
  },
  {
   "cell_type": "code",
   "metadata": {
    "cell_id": "00043-9f7db901-e9e0-4072-8809-b22686a7288c",
    "deepnote_cell_type": "code"
   },
   "source": "predictions = spam_detect_model.predict(x_test)",
   "execution_count": 387,
   "outputs": []
  },
  {
   "cell_type": "code",
   "metadata": {
    "cell_id": "00044-3ecd457b-3fc5-4ba2-a464-449a50cceefb",
    "deepnote_cell_type": "code"
   },
   "source": "from sklearn.metrics import classification_report, confusion_matrix\ncfr = classification_report(y_test, predictions)\nprint(cfr)",
   "execution_count": 388,
   "outputs": [
    {
     "name": "stdout",
     "output_type": "stream",
     "text": "              precision    recall  f1-score   support\n\n         ham       0.99      0.98      0.98      1227\n        spam       0.86      0.92      0.89       166\n\n    accuracy                           0.97      1393\n   macro avg       0.93      0.95      0.94      1393\nweighted avg       0.97      0.97      0.97      1393\n\n"
    }
   ]
  },
  {
   "cell_type": "code",
   "metadata": {
    "cell_id": "00045-b03fb7ef-4110-4b39-84b0-58e59c48222f",
    "deepnote_cell_type": "code"
   },
   "source": "import matplotlib.pyplot as plt\nimport seaborn as sns",
   "execution_count": 389,
   "outputs": []
  },
  {
   "cell_type": "code",
   "metadata": {
    "cell_id": "00046-598b1a07-7afc-493c-a4be-87f35e8551ca",
    "deepnote_cell_type": "code"
   },
   "source": "plt.figure(figsize = (6,5))\nf = sns.heatmap(confusion_matrix(y_test, predictions), annot = True, cmap = 'Set3', fmt='g', cbar = False, annot_kws={\"fontsize\":15})\nplt.xticks(f.get_xticks(), labels=['Ham', 'Spam'])\nplt.yticks(f.get_xticks(), labels=['Ham', 'Spam']);",
   "execution_count": 390,
   "outputs": [
    {
     "data": {
      "image/png": "[encoded data removed]",
      "text/plain": "<Figure size 432x360 with 1 Axes>"
     },
     "metadata": {
      "needs_background": "light",
      "image/png": {
       "width": 366,
       "height": 303
      }
     },
     "output_type": "display_data"
    }
   ]
  },
  {
   "cell_type": "markdown",
   "source": "If you know how to interpret confusion matrix, from the test set  \nwe are marking 24 out of 1227 as spam which are not spam and  \n13 out of 166 are spam that we have marked as not spam.",
   "metadata": {
    "cell_id": "00047-95ec2844-76b6-4e19-aa17-784e15b36b95",
    "deepnote_cell_type": "markdown"
   }
  },
  {
   "cell_type": "markdown",
   "source": "Let's check some samples and try to predict on them with this model.",
   "metadata": {
    "cell_id": "00048-8e8d60e2-0efe-4a64-ab95-b8cef2efd8f7",
    "deepnote_cell_type": "markdown"
   }
  },
  {
   "cell_type": "code",
   "metadata": {
    "cell_id": "00049-89103b5c-32a9-436c-a87a-2b24038981ae",
    "deepnote_cell_type": "code"
   },
   "source": "def predict_user(input_message):\n    processed_message = text_process(input_message)\n    processed_message = bow_transformer.transform([processed_message])\n    return spam_detect_model.predict(processed_message)[0]",
   "execution_count": 404,
   "outputs": []
  },
  {
   "cell_type": "code",
   "metadata": {
    "cell_id": "00050-167065b1-f0d3-4d2f-9c54-78930e532a0c",
    "deepnote_cell_type": "code"
   },
   "source": "input_message = \"Woohoo! Congrats! You have won a lottery for $50 claim your prize now and call us at 9999-555-555\"\npredict_user(input_message)",
   "execution_count": 403,
   "outputs": [
    {
     "data": {
      "text/plain": "'spam'"
     },
     "execution_count": 403,
     "metadata": {},
     "output_type": "execute_result"
    }
   ]
  },
  {
   "cell_type": "code",
   "metadata": {
    "cell_id": "00051-df214d90-13c2-45b5-8732-46a85902d0cf",
    "deepnote_cell_type": "code"
   },
   "source": "input_message = \"never gonna give you up, never gonna let you down\"\npredict_user(input_message)",
   "execution_count": 422,
   "outputs": [
    {
     "data": {
      "text/plain": "'ham'"
     },
     "execution_count": 422,
     "metadata": {},
     "output_type": "execute_result"
    }
   ]
  },
  {
   "cell_type": "code",
   "metadata": {
    "cell_id": "00052-0d19cacc-c158-4640-b5d3-05c8ed792c3b",
    "deepnote_cell_type": "code"
   },
   "source": "input_message = \"Here's your free ticket to the champions league final. Only you are the deserved winner, claim soon.\"\npredict_user(input_message)",
   "execution_count": 424,
   "outputs": [
    {
     "data": {
      "text/plain": "'spam'"
     },
     "execution_count": 424,
     "metadata": {},
     "output_type": "execute_result"
    }
   ]
  },
  {
   "cell_type": "markdown",
   "source": "<a style='text-decoration:none;line-height:16px;display:flex;color:#5B5B62;padding:10px;justify-content:end;' href='https://deepnote.com?utm_source=created-in-deepnote-cell&projectId=de114742-2655-4a7e-9b33-628102a2316a' target=\"_blank\">\n<img alt='Created in deepnote.com' style='display:inline;max-height:16px;margin:0px;margin-right:7.5px;' src='data:image/svg+xml;base64,PD94bWwgdmVyc2lvbj0iMS4wIiBlbmNvZGluZz0iVVRGLTgiPz4KPHN2ZyB3aWR0aD0iODBweCIgaGVpZ2h0PSI4MHB4IiB2aWV3Qm94PSIwIDAgODAgODAiIHZlcnNpb249IjEuMSIgeG1sbnM9Imh0dHA6Ly93d3cudzMub3JnLzIwMDAvc3ZnIiB4bWxuczp4bGluaz0iaHR0cDovL3d3dy53My5vcmcvMTk5OS94bGluayI+CiAgICA8IS0tIEdlbmVyYXRvcjogU2tldGNoIDU0LjEgKDc2NDkwKSAtIGh0dHBzOi8vc2tldGNoYXBwLmNvbSAtLT4KICAgIDx0aXRsZT5Hcm91cCAzPC90aXRsZT4KICAgIDxkZXNjPkNyZWF0ZWQgd2l0aCBTa2V0Y2guPC9kZXNjPgogICAgPGcgaWQ9IkxhbmRpbmciIHN0cm9rZT0ibm9uZSIgc3Ryb2tlLXdpZHRoPSIxIiBmaWxsPSJub25lIiBmaWxsLXJ1bGU9ImV2ZW5vZGQiPgogICAgICAgIDxnIGlkPSJBcnRib2FyZCIgdHJhbnNmb3JtPSJ0cmFuc2xhdGUoLTEyMzUuMDAwMDAwLCAtNzkuMDAwMDAwKSI+CiAgICAgICAgICAgIDxnIGlkPSJHcm91cC0zIiB0cmFuc2Zvcm09InRyYW5zbGF0ZSgxMjM1LjAwMDAwMCwgNzkuMDAwMDAwKSI+CiAgICAgICAgICAgICAgICA8cG9seWdvbiBpZD0iUGF0aC0yMCIgZmlsbD0iIzAyNjVCNCIgcG9pbnRzPSIyLjM3NjIzNzYyIDgwIDM4LjA0NzY2NjcgODAgNTcuODIxNzgyMiA3My44MDU3NTkyIDU3LjgyMTc4MjIgMzIuNzU5MjczOSAzOS4xNDAyMjc4IDMxLjY4MzE2ODMiPjwvcG9seWdvbj4KICAgICAgICAgICAgICAgIDxwYXRoIGQ9Ik0zNS4wMDc3MTgsODAgQzQyLjkwNjIwMDcsNzYuNDU0OTM1OCA0Ny41NjQ5MTY3LDcxLjU0MjI2NzEgNDguOTgzODY2LDY1LjI2MTk5MzkgQzUxLjExMjI4OTksNTUuODQxNTg0MiA0MS42NzcxNzk1LDQ5LjIxMjIyODQgMjUuNjIzOTg0Niw0OS4yMTIyMjg0IEMyNS40ODQ5Mjg5LDQ5LjEyNjg0NDggMjkuODI2MTI5Niw0My4yODM4MjQ4IDM4LjY0NzU4NjksMzEuNjgzMTY4MyBMNzIuODcxMjg3MSwzMi41NTQ0MjUgTDY1LjI4MDk3Myw2Ny42NzYzNDIxIEw1MS4xMTIyODk5LDc3LjM3NjE0NCBMMzUuMDA3NzE4LDgwIFoiIGlkPSJQYXRoLTIyIiBmaWxsPSIjMDAyODY4Ij48L3BhdGg+CiAgICAgICAgICAgICAgICA8cGF0aCBkPSJNMCwzNy43MzA0NDA1IEwyNy4xMTQ1MzcsMC4yNTcxMTE0MzYgQzYyLjM3MTUxMjMsLTEuOTkwNzE3MDEgODAsMTAuNTAwMzkyNyA4MCwzNy43MzA0NDA1IEM4MCw2NC45NjA0ODgyIDY0Ljc3NjUwMzgsNzkuMDUwMzQxNCAzNC4zMjk1MTEzLDgwIEM0Ny4wNTUzNDg5LDc3LjU2NzA4MDggNTMuNDE4MjY3Nyw3MC4zMTM2MTAzIDUzLjQxODI2NzcsNTguMjM5NTg4NSBDNTMuNDE4MjY3Nyw0MC4xMjg1NTU3IDM2LjMwMzk1NDQsMzcuNzMwNDQwNSAyNS4yMjc0MTcsMzcuNzMwNDQwNSBDMTcuODQzMDU4NiwzNy43MzA0NDA1IDkuNDMzOTE5NjYsMzcuNzMwNDQwNSAwLDM3LjczMDQ0MDUgWiIgaWQ9IlBhdGgtMTkiIGZpbGw9IiMzNzkzRUYiPjwvcGF0aD4KICAgICAgICAgICAgPC9nPgogICAgICAgIDwvZz4KICAgIDwvZz4KPC9zdmc+' > </img>\nCreated in <span style='font-weight:600;margin-left:4px;'>Deepnote</span></a>",
   "metadata": {
    "cell_id": "00053-6006538d-e973-4708-81ba-8ee6e9062e8c",
    "deepnote_cell_type": "markdown"
   }
  },
  {
   "cell_type": "markdown",
   "source": "<a style='text-decoration:none;line-height:16px;display:flex;color:#5B5B62;padding:10px;justify-content:end;' href='https://deepnote.com?utm_source=created-in-deepnote-cell&projectId=0b86c8a6-6f0c-4783-a8a8-e7618f7772b9' target=\"_blank\">\n<img alt='Created in deepnote.com' style='display:inline;max-height:16px;margin:0px;margin-right:7.5px;' src='data:image/svg+xml;base64,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' > </img>\nCreated in <span style='font-weight:600;margin-left:4px;'>Deepnote</span></a>",
   "metadata": {
    "tags": [],
    "created_in_deepnote_cell": true,
    "deepnote_cell_type": "markdown"
   }
  }
 ],
 "nbformat": 4,
 "nbformat_minor": 4,
 "metadata": {
  "kernelspec": {
   "display_name": "Python 3.7.6 64-bit ('base': conda)",
   "language": "python",
   "name": "python376jvsc74a57bd05d638a7628cf7ca3de193d4112836a4f34d28eb3284549510cc26ae3985b3870"
  },
  "language_info": {
   "codemirror_mode": {
    "name": "ipython",
    "version": 3
   },
   "file_extension": ".py",
   "mimetype": "text/x-python",
   "name": "python",
   "nbconvert_exporter": "python",
   "pygments_lexer": "ipython3",
   "version": "3.7.6"
  },
  "deepnote_notebook_id": "3f706222-4e34-4288-b922-11b5eeba24f9",
  "deepnote": {},
  "deepnote_execution_queue": []
 }
}